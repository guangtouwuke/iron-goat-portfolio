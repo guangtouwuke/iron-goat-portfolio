{
  "nbformat": 4,
  "nbformat_minor": 0,
  "metadata": {
    "colab": {
      "name": "539env",
      "provenance": [],
      "collapsed_sections": [],
      "toc_visible": true,
      "include_colab_link": true
    },
    "kernelspec": {
      "display_name": "Python 3",
      "name": "python3"
    }
  },
  "cells": [
    {
      "cell_type": "markdown",
      "metadata": {
        "id": "view-in-github",
        "colab_type": "text"
      },
      "source": [
        "<a href=\"https://colab.research.google.com/github/guangtouwuke/iron-goat-portfolio/blob/master/539env.ipynb\" target=\"_parent\"><img src=\"https://colab.research.google.com/assets/colab-badge.svg\" alt=\"Open In Colab\"/></a>"
      ]
    },
    {
      "cell_type": "code",
      "metadata": {
        "colab": {
          "base_uri": "https://localhost:8080/"
        },
        "id": "VivDHalfZ5a7",
        "outputId": "9096631a-3c70-4848-a72a-4eccde17dde8"
      },
      "source": [
        "!pip install tensorflow==2.0\n",
        "!pip install keras==2.0"
      ],
      "execution_count": 1,
      "outputs": [
        {
          "output_type": "stream",
          "text": [
            "Collecting tensorflow==2.0\n",
            "\u001b[?25l  Downloading https://files.pythonhosted.org/packages/46/0f/7bd55361168bb32796b360ad15a25de6966c9c1beb58a8e30c01c8279862/tensorflow-2.0.0-cp36-cp36m-manylinux2010_x86_64.whl (86.3MB)\n",
            "\u001b[K     |████████████████████████████████| 86.3MB 49kB/s \n",
            "\u001b[?25hCollecting keras-applications>=1.0.8\n",
            "\u001b[?25l  Downloading https://files.pythonhosted.org/packages/71/e3/19762fdfc62877ae9102edf6342d71b28fbfd9dea3d2f96a882ce099b03f/Keras_Applications-1.0.8-py3-none-any.whl (50kB)\n",
            "\u001b[K     |████████████████████████████████| 51kB 6.7MB/s \n",
            "\u001b[?25hRequirement already satisfied: protobuf>=3.6.1 in /usr/local/lib/python3.6/dist-packages (from tensorflow==2.0) (3.12.4)\n",
            "Collecting tensorflow-estimator<2.1.0,>=2.0.0\n",
            "\u001b[?25l  Downloading https://files.pythonhosted.org/packages/fc/08/8b927337b7019c374719145d1dceba21a8bb909b93b1ad6f8fb7d22c1ca1/tensorflow_estimator-2.0.1-py2.py3-none-any.whl (449kB)\n",
            "\u001b[K     |████████████████████████████████| 450kB 43.9MB/s \n",
            "\u001b[?25hRequirement already satisfied: wheel>=0.26 in /usr/local/lib/python3.6/dist-packages (from tensorflow==2.0) (0.35.1)\n",
            "Requirement already satisfied: absl-py>=0.7.0 in /usr/local/lib/python3.6/dist-packages (from tensorflow==2.0) (0.10.0)\n",
            "Requirement already satisfied: keras-preprocessing>=1.0.5 in /usr/local/lib/python3.6/dist-packages (from tensorflow==2.0) (1.1.2)\n",
            "Requirement already satisfied: wrapt>=1.11.1 in /usr/local/lib/python3.6/dist-packages (from tensorflow==2.0) (1.12.1)\n",
            "Requirement already satisfied: astor>=0.6.0 in /usr/local/lib/python3.6/dist-packages (from tensorflow==2.0) (0.8.1)\n",
            "Requirement already satisfied: termcolor>=1.1.0 in /usr/local/lib/python3.6/dist-packages (from tensorflow==2.0) (1.1.0)\n",
            "Requirement already satisfied: google-pasta>=0.1.6 in /usr/local/lib/python3.6/dist-packages (from tensorflow==2.0) (0.2.0)\n",
            "Requirement already satisfied: opt-einsum>=2.3.2 in /usr/local/lib/python3.6/dist-packages (from tensorflow==2.0) (3.3.0)\n",
            "Requirement already satisfied: grpcio>=1.8.6 in /usr/local/lib/python3.6/dist-packages (from tensorflow==2.0) (1.33.2)\n",
            "Collecting gast==0.2.2\n",
            "  Downloading https://files.pythonhosted.org/packages/4e/35/11749bf99b2d4e3cceb4d55ca22590b0d7c2c62b9de38ac4a4a7f4687421/gast-0.2.2.tar.gz\n",
            "Requirement already satisfied: six>=1.10.0 in /usr/local/lib/python3.6/dist-packages (from tensorflow==2.0) (1.15.0)\n",
            "Collecting tensorboard<2.1.0,>=2.0.0\n",
            "\u001b[?25l  Downloading https://files.pythonhosted.org/packages/76/54/99b9d5d52d5cb732f099baaaf7740403e83fe6b0cedde940fabd2b13d75a/tensorboard-2.0.2-py3-none-any.whl (3.8MB)\n",
            "\u001b[K     |████████████████████████████████| 3.8MB 42.3MB/s \n",
            "\u001b[?25hRequirement already satisfied: numpy<2.0,>=1.16.0 in /usr/local/lib/python3.6/dist-packages (from tensorflow==2.0) (1.18.5)\n",
            "Requirement already satisfied: h5py in /usr/local/lib/python3.6/dist-packages (from keras-applications>=1.0.8->tensorflow==2.0) (2.10.0)\n",
            "Requirement already satisfied: setuptools in /usr/local/lib/python3.6/dist-packages (from protobuf>=3.6.1->tensorflow==2.0) (50.3.2)\n",
            "Requirement already satisfied: werkzeug>=0.11.15 in /usr/local/lib/python3.6/dist-packages (from tensorboard<2.1.0,>=2.0.0->tensorflow==2.0) (1.0.1)\n",
            "Requirement already satisfied: google-auth<2,>=1.6.3 in /usr/local/lib/python3.6/dist-packages (from tensorboard<2.1.0,>=2.0.0->tensorflow==2.0) (1.17.2)\n",
            "Requirement already satisfied: markdown>=2.6.8 in /usr/local/lib/python3.6/dist-packages (from tensorboard<2.1.0,>=2.0.0->tensorflow==2.0) (3.3.3)\n",
            "Requirement already satisfied: requests<3,>=2.21.0 in /usr/local/lib/python3.6/dist-packages (from tensorboard<2.1.0,>=2.0.0->tensorflow==2.0) (2.23.0)\n",
            "Requirement already satisfied: google-auth-oauthlib<0.5,>=0.4.1 in /usr/local/lib/python3.6/dist-packages (from tensorboard<2.1.0,>=2.0.0->tensorflow==2.0) (0.4.2)\n",
            "Requirement already satisfied: pyasn1-modules>=0.2.1 in /usr/local/lib/python3.6/dist-packages (from google-auth<2,>=1.6.3->tensorboard<2.1.0,>=2.0.0->tensorflow==2.0) (0.2.8)\n",
            "Requirement already satisfied: cachetools<5.0,>=2.0.0 in /usr/local/lib/python3.6/dist-packages (from google-auth<2,>=1.6.3->tensorboard<2.1.0,>=2.0.0->tensorflow==2.0) (4.1.1)\n",
            "Requirement already satisfied: rsa<5,>=3.1.4; python_version >= \"3\" in /usr/local/lib/python3.6/dist-packages (from google-auth<2,>=1.6.3->tensorboard<2.1.0,>=2.0.0->tensorflow==2.0) (4.6)\n",
            "Requirement already satisfied: importlib-metadata; python_version < \"3.8\" in /usr/local/lib/python3.6/dist-packages (from markdown>=2.6.8->tensorboard<2.1.0,>=2.0.0->tensorflow==2.0) (2.0.0)\n",
            "Requirement already satisfied: chardet<4,>=3.0.2 in /usr/local/lib/python3.6/dist-packages (from requests<3,>=2.21.0->tensorboard<2.1.0,>=2.0.0->tensorflow==2.0) (3.0.4)\n",
            "Requirement already satisfied: certifi>=2017.4.17 in /usr/local/lib/python3.6/dist-packages (from requests<3,>=2.21.0->tensorboard<2.1.0,>=2.0.0->tensorflow==2.0) (2020.6.20)\n",
            "Requirement already satisfied: idna<3,>=2.5 in /usr/local/lib/python3.6/dist-packages (from requests<3,>=2.21.0->tensorboard<2.1.0,>=2.0.0->tensorflow==2.0) (2.10)\n",
            "Requirement already satisfied: urllib3!=1.25.0,!=1.25.1,<1.26,>=1.21.1 in /usr/local/lib/python3.6/dist-packages (from requests<3,>=2.21.0->tensorboard<2.1.0,>=2.0.0->tensorflow==2.0) (1.24.3)\n",
            "Requirement already satisfied: requests-oauthlib>=0.7.0 in /usr/local/lib/python3.6/dist-packages (from google-auth-oauthlib<0.5,>=0.4.1->tensorboard<2.1.0,>=2.0.0->tensorflow==2.0) (1.3.0)\n",
            "Requirement already satisfied: pyasn1<0.5.0,>=0.4.6 in /usr/local/lib/python3.6/dist-packages (from pyasn1-modules>=0.2.1->google-auth<2,>=1.6.3->tensorboard<2.1.0,>=2.0.0->tensorflow==2.0) (0.4.8)\n",
            "Requirement already satisfied: zipp>=0.5 in /usr/local/lib/python3.6/dist-packages (from importlib-metadata; python_version < \"3.8\"->markdown>=2.6.8->tensorboard<2.1.0,>=2.0.0->tensorflow==2.0) (3.4.0)\n",
            "Requirement already satisfied: oauthlib>=3.0.0 in /usr/local/lib/python3.6/dist-packages (from requests-oauthlib>=0.7.0->google-auth-oauthlib<0.5,>=0.4.1->tensorboard<2.1.0,>=2.0.0->tensorflow==2.0) (3.1.0)\n",
            "Building wheels for collected packages: gast\n",
            "  Building wheel for gast (setup.py) ... \u001b[?25l\u001b[?25hdone\n",
            "  Created wheel for gast: filename=gast-0.2.2-cp36-none-any.whl size=7542 sha256=a5aafc970c7fcbceb2b817662929f42c8c1dff199dfefe28924a3f5be64cab0d\n",
            "  Stored in directory: /root/.cache/pip/wheels/5c/2e/7e/a1d4d4fcebe6c381f378ce7743a3ced3699feb89bcfbdadadd\n",
            "Successfully built gast\n",
            "\u001b[31mERROR: tensorflow-probability 0.11.0 has requirement gast>=0.3.2, but you'll have gast 0.2.2 which is incompatible.\u001b[0m\n",
            "Installing collected packages: keras-applications, tensorflow-estimator, gast, tensorboard, tensorflow\n",
            "  Found existing installation: tensorflow-estimator 2.3.0\n",
            "    Uninstalling tensorflow-estimator-2.3.0:\n",
            "      Successfully uninstalled tensorflow-estimator-2.3.0\n",
            "  Found existing installation: gast 0.3.3\n",
            "    Uninstalling gast-0.3.3:\n",
            "      Successfully uninstalled gast-0.3.3\n",
            "  Found existing installation: tensorboard 2.3.0\n",
            "    Uninstalling tensorboard-2.3.0:\n",
            "      Successfully uninstalled tensorboard-2.3.0\n",
            "  Found existing installation: tensorflow 2.3.0\n",
            "    Uninstalling tensorflow-2.3.0:\n",
            "      Successfully uninstalled tensorflow-2.3.0\n",
            "Successfully installed gast-0.2.2 keras-applications-1.0.8 tensorboard-2.0.2 tensorflow-2.0.0 tensorflow-estimator-2.0.1\n",
            "Collecting keras==2.0\n",
            "\u001b[?25l  Downloading https://files.pythonhosted.org/packages/95/bf/98ce2f2ab1364f6e83c0ffc5216fff3058fd990d8a3b957ebad3a6cedeeb/Keras-2.0.0.tar.gz (191kB)\n",
            "\u001b[K     |████████████████████████████████| 194kB 4.4MB/s \n",
            "\u001b[?25hRequirement already satisfied: tensorflow in /usr/local/lib/python3.6/dist-packages (from keras==2.0) (2.0.0)\n",
            "Requirement already satisfied: pyyaml in /usr/local/lib/python3.6/dist-packages (from keras==2.0) (3.13)\n",
            "Requirement already satisfied: six in /usr/local/lib/python3.6/dist-packages (from keras==2.0) (1.15.0)\n",
            "Requirement already satisfied: protobuf>=3.6.1 in /usr/local/lib/python3.6/dist-packages (from tensorflow->keras==2.0) (3.12.4)\n",
            "Requirement already satisfied: gast==0.2.2 in /usr/local/lib/python3.6/dist-packages (from tensorflow->keras==2.0) (0.2.2)\n",
            "Requirement already satisfied: grpcio>=1.8.6 in /usr/local/lib/python3.6/dist-packages (from tensorflow->keras==2.0) (1.33.2)\n",
            "Requirement already satisfied: wheel>=0.26 in /usr/local/lib/python3.6/dist-packages (from tensorflow->keras==2.0) (0.35.1)\n",
            "Requirement already satisfied: tensorboard<2.1.0,>=2.0.0 in /usr/local/lib/python3.6/dist-packages (from tensorflow->keras==2.0) (2.0.2)\n",
            "Requirement already satisfied: wrapt>=1.11.1 in /usr/local/lib/python3.6/dist-packages (from tensorflow->keras==2.0) (1.12.1)\n",
            "Requirement already satisfied: keras-applications>=1.0.8 in /usr/local/lib/python3.6/dist-packages (from tensorflow->keras==2.0) (1.0.8)\n",
            "Requirement already satisfied: keras-preprocessing>=1.0.5 in /usr/local/lib/python3.6/dist-packages (from tensorflow->keras==2.0) (1.1.2)\n",
            "Requirement already satisfied: opt-einsum>=2.3.2 in /usr/local/lib/python3.6/dist-packages (from tensorflow->keras==2.0) (3.3.0)\n",
            "Requirement already satisfied: tensorflow-estimator<2.1.0,>=2.0.0 in /usr/local/lib/python3.6/dist-packages (from tensorflow->keras==2.0) (2.0.1)\n",
            "Requirement already satisfied: google-pasta>=0.1.6 in /usr/local/lib/python3.6/dist-packages (from tensorflow->keras==2.0) (0.2.0)\n",
            "Requirement already satisfied: absl-py>=0.7.0 in /usr/local/lib/python3.6/dist-packages (from tensorflow->keras==2.0) (0.10.0)\n",
            "Requirement already satisfied: numpy<2.0,>=1.16.0 in /usr/local/lib/python3.6/dist-packages (from tensorflow->keras==2.0) (1.18.5)\n",
            "Requirement already satisfied: astor>=0.6.0 in /usr/local/lib/python3.6/dist-packages (from tensorflow->keras==2.0) (0.8.1)\n",
            "Requirement already satisfied: termcolor>=1.1.0 in /usr/local/lib/python3.6/dist-packages (from tensorflow->keras==2.0) (1.1.0)\n",
            "Requirement already satisfied: setuptools in /usr/local/lib/python3.6/dist-packages (from protobuf>=3.6.1->tensorflow->keras==2.0) (50.3.2)\n",
            "Requirement already satisfied: markdown>=2.6.8 in /usr/local/lib/python3.6/dist-packages (from tensorboard<2.1.0,>=2.0.0->tensorflow->keras==2.0) (3.3.3)\n",
            "Requirement already satisfied: google-auth<2,>=1.6.3 in /usr/local/lib/python3.6/dist-packages (from tensorboard<2.1.0,>=2.0.0->tensorflow->keras==2.0) (1.17.2)\n",
            "Requirement already satisfied: google-auth-oauthlib<0.5,>=0.4.1 in /usr/local/lib/python3.6/dist-packages (from tensorboard<2.1.0,>=2.0.0->tensorflow->keras==2.0) (0.4.2)\n",
            "Requirement already satisfied: werkzeug>=0.11.15 in /usr/local/lib/python3.6/dist-packages (from tensorboard<2.1.0,>=2.0.0->tensorflow->keras==2.0) (1.0.1)\n",
            "Requirement already satisfied: requests<3,>=2.21.0 in /usr/local/lib/python3.6/dist-packages (from tensorboard<2.1.0,>=2.0.0->tensorflow->keras==2.0) (2.23.0)\n",
            "Requirement already satisfied: h5py in /usr/local/lib/python3.6/dist-packages (from keras-applications>=1.0.8->tensorflow->keras==2.0) (2.10.0)\n",
            "Requirement already satisfied: importlib-metadata; python_version < \"3.8\" in /usr/local/lib/python3.6/dist-packages (from markdown>=2.6.8->tensorboard<2.1.0,>=2.0.0->tensorflow->keras==2.0) (2.0.0)\n",
            "Requirement already satisfied: rsa<5,>=3.1.4; python_version >= \"3\" in /usr/local/lib/python3.6/dist-packages (from google-auth<2,>=1.6.3->tensorboard<2.1.0,>=2.0.0->tensorflow->keras==2.0) (4.6)\n",
            "Requirement already satisfied: cachetools<5.0,>=2.0.0 in /usr/local/lib/python3.6/dist-packages (from google-auth<2,>=1.6.3->tensorboard<2.1.0,>=2.0.0->tensorflow->keras==2.0) (4.1.1)\n",
            "Requirement already satisfied: pyasn1-modules>=0.2.1 in /usr/local/lib/python3.6/dist-packages (from google-auth<2,>=1.6.3->tensorboard<2.1.0,>=2.0.0->tensorflow->keras==2.0) (0.2.8)\n",
            "Requirement already satisfied: requests-oauthlib>=0.7.0 in /usr/local/lib/python3.6/dist-packages (from google-auth-oauthlib<0.5,>=0.4.1->tensorboard<2.1.0,>=2.0.0->tensorflow->keras==2.0) (1.3.0)\n",
            "Requirement already satisfied: urllib3!=1.25.0,!=1.25.1,<1.26,>=1.21.1 in /usr/local/lib/python3.6/dist-packages (from requests<3,>=2.21.0->tensorboard<2.1.0,>=2.0.0->tensorflow->keras==2.0) (1.24.3)\n",
            "Requirement already satisfied: chardet<4,>=3.0.2 in /usr/local/lib/python3.6/dist-packages (from requests<3,>=2.21.0->tensorboard<2.1.0,>=2.0.0->tensorflow->keras==2.0) (3.0.4)\n",
            "Requirement already satisfied: idna<3,>=2.5 in /usr/local/lib/python3.6/dist-packages (from requests<3,>=2.21.0->tensorboard<2.1.0,>=2.0.0->tensorflow->keras==2.0) (2.10)\n",
            "Requirement already satisfied: certifi>=2017.4.17 in /usr/local/lib/python3.6/dist-packages (from requests<3,>=2.21.0->tensorboard<2.1.0,>=2.0.0->tensorflow->keras==2.0) (2020.6.20)\n",
            "Requirement already satisfied: zipp>=0.5 in /usr/local/lib/python3.6/dist-packages (from importlib-metadata; python_version < \"3.8\"->markdown>=2.6.8->tensorboard<2.1.0,>=2.0.0->tensorflow->keras==2.0) (3.4.0)\n",
            "Requirement already satisfied: pyasn1>=0.1.3 in /usr/local/lib/python3.6/dist-packages (from rsa<5,>=3.1.4; python_version >= \"3\"->google-auth<2,>=1.6.3->tensorboard<2.1.0,>=2.0.0->tensorflow->keras==2.0) (0.4.8)\n",
            "Requirement already satisfied: oauthlib>=3.0.0 in /usr/local/lib/python3.6/dist-packages (from requests-oauthlib>=0.7.0->google-auth-oauthlib<0.5,>=0.4.1->tensorboard<2.1.0,>=2.0.0->tensorflow->keras==2.0) (3.1.0)\n",
            "Building wheels for collected packages: keras\n",
            "  Building wheel for keras (setup.py) ... \u001b[?25l\u001b[?25hdone\n",
            "  Created wheel for keras: filename=Keras-2.0.0-cp36-none-any.whl size=227985 sha256=0230241fb1485aba7e4f0fd5cc6ff765d14c1bea1dd5445924c85da95dc2b8a3\n",
            "  Stored in directory: /root/.cache/pip/wheels/b0/a1/f4/f5f6a53dd71728cae0176b860f8c4304dd5d3fc2b8387ef59c\n",
            "Successfully built keras\n",
            "\u001b[31mERROR: textgenrnn 1.4.1 has requirement keras>=2.1.5, but you'll have keras 2.0.0 which is incompatible.\u001b[0m\n",
            "Installing collected packages: keras\n",
            "  Found existing installation: Keras 2.4.3\n",
            "    Uninstalling Keras-2.4.3:\n",
            "      Successfully uninstalled Keras-2.4.3\n",
            "Successfully installed keras-2.0.0\n"
          ],
          "name": "stdout"
        }
      ]
    },
    {
      "cell_type": "code",
      "metadata": {
        "colab": {
          "base_uri": "https://localhost:8080/"
        },
        "id": "HzkRM6HCY3zM",
        "outputId": "f93ef98b-a44b-4632-c30c-62e0572155c6"
      },
      "source": [
        "import numpy as np\n",
        "import keras.backend.tensorflow_backend as backend\n",
        "from tensorflow.keras.models import Sequential\n",
        "from tensorflow.keras.layers import Dense, Dropout, Conv2D, MaxPooling2D, Activation, Flatten, LSTM\n",
        "from tensorflow.keras.optimizers import Adam\n",
        "from keras.callbacks import TensorBoard, EarlyStopping\n",
        "import tensorflow as tf\n",
        "\n",
        "\n",
        "from collections import deque\n",
        "import time\n",
        "import random\n",
        "from tqdm import tqdm\n",
        "import os\n",
        "from PIL import Image\n",
        "import cv2\n",
        "\n",
        "#tf.disable_v2_behavior()\n",
        "\n",
        "DISCOUNT = 0.99\n",
        "REPLAY_MEMORY_SIZE = 50_000  # How many last steps to keep for model training\n",
        "MIN_REPLAY_MEMORY_SIZE = 1_000  # Minimum number of steps in a memory to start training\n",
        "MINIBATCH_SIZE = 64  # How many steps (samples) to use for training\n",
        "UPDATE_TARGET_EVERY = 5  # Terminal states (end of episodes)\n",
        "MODEL_NAME = '2x256'\n",
        "MIN_REWARD = -200  # For model save\n",
        "MEMORY_FRACTION = 0.20\n",
        "\n",
        "# Environment settings\n",
        "###################################\n",
        "EPISODES = 100\n",
        "###################################\n",
        "# Exploration settings\n",
        "epsilon = 1  # not a constant, going to be decayed\n",
        "EPSILON_DECAY = 0.99975\n",
        "MIN_EPSILON = 0.001\n",
        "\n",
        "#  Stats settings\n",
        "AGGREGATE_STATS_EVERY = 50  # episodes\n",
        "SHOW_PREVIEW = False\n",
        "\n",
        "SIZE = 10\n",
        "with open('map.txt', 'r') as f:\n",
        "    map = np.zeros((SIZE, SIZE), dtype=float)\n",
        "    data = f.readlines()\n",
        "\n",
        "    A_row = 0\n",
        "    for line in data:\n",
        "        list = line.strip('\\n').split(' ')\n",
        "        map[A_row:] = list[0:SIZE]  #\n",
        "        A_row += 1\n",
        "\n",
        "\n",
        "class Blob:\n",
        "    def __init__(self, size):\n",
        "        self.size = size\n",
        "        self.x = np.random.randint(0, size)\n",
        "        self.y = np.random.randint(0, size)\n",
        "    def __init__(self, x = False , y = False):\n",
        "        if not x:\n",
        "            self.x = np.random.randint(0, SIZE)\n",
        "        else:\n",
        "            self.x = x\n",
        "        if not y:\n",
        "            self.y = np.random.randint(0, SIZE)\n",
        "        else:\n",
        "            self.y = y\n",
        "    def __str__(self):\n",
        "        return f\"Blob ({self.x}, {self.y})\"\n",
        "\n",
        "    def __sub__(self, other):\n",
        "        return (self.x-other.x, self.y-other.y)\n",
        "\n",
        "    def __eq__(self, other):\n",
        "        return self.x == other.x and self.y == other.y\n",
        "\n",
        "    def action(self, choice):\n",
        "        '''\n",
        "        Gives us 9 total movement options. (0,1,2,3,4,5,6,7,8)\n",
        "        '''\n",
        "        if choice == 0:\n",
        "            self.move(x=1, y=1)\n",
        "        elif choice == 1:\n",
        "            self.move(x=-1, y=-1)\n",
        "        elif choice == 2:\n",
        "            self.move(x=-1, y=1)\n",
        "        elif choice == 3:\n",
        "            self.move(x=1, y=-1)\n",
        "\n",
        "        elif choice == 4:\n",
        "            self.move(x=1, y=0)\n",
        "        elif choice == 5:\n",
        "            self.move(x=-1, y=0)\n",
        "\n",
        "        elif choice == 6:\n",
        "            self.move(x=0, y=1)\n",
        "        elif choice == 7:\n",
        "            self.move(x=0, y=-1)\n",
        "\n",
        "        elif choice == 8:\n",
        "            self.move(x=0, y=0)\n",
        "\n",
        "    def move(self, x=False, y=False):\n",
        "\n",
        "        # If no value for x, move randomly\n",
        "        if not x:\n",
        "            self.x += np.random.randint(-1, 2)\n",
        "        else:\n",
        "            self.x += x\n",
        "\n",
        "        # If no value for y, move randomly\n",
        "        if not y:\n",
        "            self.y += np.random.randint(-1, 2)\n",
        "        else:\n",
        "            self.y += y\n",
        "\n",
        "        # If we are out of bounds, fix!\n",
        "        if self.x < 0:\n",
        "            self.x = 0\n",
        "        elif self.x > SIZE-1:\n",
        "            self.x = SIZE-1\n",
        "        if self.y < 0:\n",
        "            self.y = 0\n",
        "        elif self.y > SIZE-1:\n",
        "            self.y = SIZE-1\n",
        "\n",
        "\n",
        "class BlobEnv:\n",
        "\n",
        "    RETURN_IMAGES = True\n",
        "    MOVE_PENALTY = 1\n",
        "    ENEMY_PENALTY = 300\n",
        "    FOOD_REWARD = 25\n",
        "    OBSERVATION_SPACE_VALUES = (SIZE, SIZE, 3)  # 4\n",
        "    ACTION_SPACE_SIZE = 9\n",
        "    PLAYER_N = 1  # player key in dict\n",
        "    FOOD_N = 2  # food key in dict\n",
        "    ENEMY_N = 3  # enemy key in dict\n",
        "    WALL_N = 4  # wall key in dict\n",
        "    SIZE = SIZE\n",
        "\n",
        "    # the dict! Using just for colors\n",
        "    d = {1: (255, 175, 0),  # blueish color\n",
        "         2: (0, 255, 0),  # green\n",
        "         3: (0, 0, 255),  # red\n",
        "         4: (255, 255, 255)}  # white for wall\n",
        "\n",
        "    def reset(self, enemyNumber):\n",
        "        walls = []\n",
        "        self.enemy = []\n",
        "        for i in range(len(map)):\n",
        "            for j in range(len(map[0])):\n",
        "                if (map[i][j] == 1):\n",
        "                    walls.append(Blob(i, j));\n",
        "        self.player = Blob(self.SIZE-1)\n",
        "        for wall in walls:\n",
        "            while self.player == wall:\n",
        "                self.player = Blob(self.SIZE-1)\n",
        "##################################################################################################        \n",
        "        self.food = Blob(self.SIZE-1)\n",
        "        # print()\n",
        "        # print(self.SIZE)\n",
        "        # print(SIZE)\n",
        "        # print(self.food.x)\n",
        "        # print(self.food.y)\n",
        "##################################################################################################          \n",
        "        for wall in walls:\n",
        "            while self.food == wall:\n",
        "                self.food = Blob(self.SIZE-1)\n",
        "        while self.food == self.player:\n",
        "            self.food = Blob(self.SIZE-1)\n",
        "        for i in range(enemyNumber):\n",
        "          self.enemy.append(Blob(self.SIZE-1))\n",
        "          for j in range(len(self.enemy)-1):\n",
        "            if self.enemy[i]==self.enemy[j]:\n",
        "              self.enemy[i] = Blob(self.SIZE-1)\n",
        "          for wall in walls:\n",
        "            while self.enemy[i] == self.player or self.enemy[i] == self.food or self.enemy[i]==wall:\n",
        "                self.enemy[i] = Blob(self.SIZE-1)\n",
        "\n",
        "        self.episode_step = 0\n",
        "\n",
        "        if self.RETURN_IMAGES:\n",
        "            observation = np.array(self.get_image())\n",
        "        else:\n",
        "            observation = (self.player-self.food) + (self.player-self.enemy)\n",
        "        return observation\n",
        "\n",
        "    def step(self, action):\n",
        "        self.episode_step += 1\n",
        "        self.player.action(action)\n",
        "\n",
        "        #### MAYBE ###\n",
        "        #enemy.move()\n",
        "        #food.move()\n",
        "        ##############\n",
        "        walls = []\n",
        "        temp = self.player\n",
        "        for i in range(len(map)):\n",
        "            for j in range(len(map[0])):\n",
        "                if (map[i][j] == 1):\n",
        "                    walls.append(Blob(i, j));\n",
        "        if self.RETURN_IMAGES:\n",
        "            new_observation = np.array(self.get_image())\n",
        "        else:\n",
        "            new_observation = (self.player-self.food) + (self.player-self.enemy)\n",
        "        for wall in walls:\n",
        "          for i in range(len(self.enemy)):\n",
        "            if self.player == self.enemy[i]:\n",
        "                reward = -self.ENEMY_PENALTY\n",
        "            elif self.player == self.food:\n",
        "                reward = self.FOOD_REWARD\n",
        "            elif self.player == wall:\n",
        "                self.player = temp\n",
        "                reward = -self.MOVE_PENALTY\n",
        "            else:\n",
        "                reward = -self.MOVE_PENALTY\n",
        "\n",
        "        done = False\n",
        "        if reward == self.FOOD_REWARD or reward == -self.ENEMY_PENALTY or self.episode_step >= 200:\n",
        "            done = True\n",
        "\n",
        "        return new_observation, reward, done\n",
        "\n",
        "    def render(self):\n",
        "        img = self.get_image()\n",
        "        img = img.resize((300, 300))  # resizing so we can see our agent in all its glory.\n",
        "        cv2.imshow(\"image\", np.array(img))  # show it!\n",
        "        cv2.waitKey(1)\n",
        "\n",
        "    # FOR CNN #\n",
        "    def get_image(self):\n",
        "        #print(self.food.x)\n",
        "        #print(self.food.y)\n",
        "        #print(self.FOOD_N)\n",
        "        env = np.zeros((self.SIZE, self.SIZE, 3), dtype=np.uint8)  # starts an rbg of our size\n",
        "        env[self.food.x][self.food.y] = self.d[self.FOOD_N]  # sets the food location tile to green color\n",
        "        for i in range(len(self.enemy)):\n",
        "          env[self.enemy[i].x][self.enemy[i].y] = self.d[self.ENEMY_N]  # sets the enemy location to red\n",
        "        env[self.player.x][self.player.y] = self.d[self.PLAYER_N]  # sets the player tile to blue\n",
        "        walls = []\n",
        "        for i in range(len(map)):\n",
        "            for j in range(len(map[0])):\n",
        "                if (map[i][j] == 1):\n",
        "                    walls.append(Blob(i, j));\n",
        "        for wall in walls:\n",
        "          env[wall.x][wall.y] = self.d[self.WALL_N]  # sets the player tile to blue\n",
        "        img = Image.fromarray(env, 'RGB')  # reading to rgb. Apparently. Even tho color definitions are bgr. ???\n",
        "        return img\n",
        "\n",
        "\n",
        "env = BlobEnv()\n",
        "\n",
        "# For stats\n",
        "ep_rewards = [-200]\n",
        "\n",
        "# For more repetitive results\n",
        "random.seed(1)\n",
        "np.random.seed(1)\n",
        "#tf.set_random_seed(1)\n",
        "tf.random.set_seed(1)\n",
        "# Memory fraction, used mostly when trai8ning multiple agents\n",
        "#gpu_options = tf.GPUOptions(per_process_gpu_memory_fraction=MEMORY_FRACTION)\n",
        "#backend.set_session(tf.Session(config=tf.ConfigProto(gpu_options=gpu_options)))\n",
        "\n",
        "# Create models folder\n",
        "if not os.path.isdir('models'):\n",
        "    os.makedirs('models')\n",
        "\n",
        "\n",
        "# Own Tensorboard class\n",
        "class ModifiedTensorBoard(TensorBoard):\n",
        "\n",
        "# Overriding init to set initial step and writer (we want one log file for all .fit() calls)\n",
        "    def __init__(self, **kwargs):\n",
        "        super().__init__(**kwargs)\n",
        "        self.step = 1\n",
        "        # self.model = None\n",
        "        # self.TB_graph = tf.compat.v1.Graph()\n",
        "        # with self.TB_graph.as_default():\n",
        "        #     self.writer = tf.summary.create_file_writer(self.log_dir, flush_millis=5000)\n",
        "        #     self.writer.set_as_default()\n",
        "        #     self.all_summary_ops = tf.compat.v1.summary.all_v2_summary_ops()\n",
        "        # self.TB_sess = tf.compat.v1.InteractiveSession(graph=self.TB_graph)\n",
        "        # self.TB_sess.run(self.writer.init())\n",
        "        self.writer = tf.summary.create_file_writer(self.log_dir)\n",
        "        self._log_write_dir = os.path.join(self.log_dir, MODEL_NAME)\n",
        "\n",
        "    # Overriding this method to stop creating default log writer\n",
        "    def set_model(self, model):\n",
        "        #self.model = model\n",
        "        #self._train_dir = self.log_dir + '\\\\train'\n",
        "        pass\n",
        "\n",
        "    # Overrided, saves logs with our step number\n",
        "    # (otherwise every .fit() will start writing from 0th step)\n",
        "    def on_epoch_end(self, epoch, logs=None):\n",
        "        self.update_stats(**logs)\n",
        "\n",
        "    # Overrided\n",
        "    # We train for one batch only, no need to save anything at epoch end\n",
        "    def on_batch_end(self, batch, logs=None):\n",
        "        pass\n",
        "\n",
        "    def on_train_begin(self, logs=None):\n",
        "        pass\n",
        "    def on_train_batch_begin(self,_,__):\n",
        "        pass\n",
        "\n",
        "    # Overrided, so won't close writer\n",
        "    def on_train_end(self, _):\n",
        "        pass\n",
        "\n",
        "    # added for performance?\n",
        "    def on_train_batch_end(self, _, __):\n",
        "        pass\n",
        "\n",
        "    # Custom method for saving own metrics\n",
        "    # Creates writer, writes custom metrics and closes writer\n",
        "    def update_stats(self, **stats):\n",
        "        self._write_logs(stats, self.step)\n",
        "\n",
        "    def _write_logs(self, logs, index):\n",
        "        with self.writer.as_default():\n",
        "            for name, value in logs.items():\n",
        "                tf.summary.scalar(name, value, step=index)\n",
        "                self.step += 1\n",
        "                self.writer.flush()\n",
        "        # for name, value in logs.items():\n",
        "        #     self.TB_sess.run(self.all_summary_ops)\n",
        "        #     if self.model is not None:\n",
        "        #         name = f'{name}_{self.model.name}'\n",
        "        #     self.TB_sess.run(tf.summary.scalar(name, value, step=index))\n",
        "        # self.model = None\n",
        "        \n",
        "\n",
        "# Agent class\n",
        "class DQNAgent:\n",
        "    def __init__(self):\n",
        "\n",
        "        # Main model\n",
        "        self.model = self.create_model()\n",
        "\n",
        "        # Target network\n",
        "        self.target_model = self.create_model()\n",
        "        self.target_model.set_weights(self.model.get_weights())\n",
        "\n",
        "        # An array with last n steps for training\n",
        "        self.replay_memory = deque(maxlen=REPLAY_MEMORY_SIZE)\n",
        "\n",
        "        # Custom tensorboard object\n",
        "        self.tensorboard = ModifiedTensorBoard(log_dir=\"logs/{}-{}\".format(MODEL_NAME, int(time.time())))\n",
        "\n",
        "        # Used to count when to update target network with main network's weights\n",
        "        self.target_update_counter = 0\n",
        "\n",
        "    def create_model(self):\n",
        "        model = Sequential()\n",
        "\n",
        "        model.add(Conv2D(256, (3, 3), input_shape=env.OBSERVATION_SPACE_VALUES))  # OBSERVATION_SPACE_VALUES = (10, 10, 3) a 10x10 RGB image.\n",
        "        model.add(Activation('relu'))\n",
        "        model.add(MaxPooling2D(pool_size=(2, 2)))\n",
        "        model.add(Dropout(0.2))\n",
        "\n",
        "        model.add(Conv2D(256, (3, 3)))\n",
        "        model.add(Activation('relu'))\n",
        "        model.add(MaxPooling2D(pool_size=(2, 2)))\n",
        "        model.add(Dropout(0.2))\n",
        "\n",
        "        model.add(Flatten())  # this converts our 3D feature maps to 1D feature vectors\n",
        "        model.add(Dense(64))\n",
        "\n",
        "        model.add(Dense(env.ACTION_SPACE_SIZE, activation='linear'))  # ACTION_SPACE_SIZE = how many choices (9)\n",
        "        model.compile(loss=\"mse\", optimizer=Adam(lr=0.001), metrics=['accuracy'])\n",
        "        return model\n",
        "\n",
        "    # Adds step's data to a memory replay array\n",
        "    # (observation space, action, reward, new observation space, done)\n",
        "    def update_replay_memory(self, transition):\n",
        "        self.replay_memory.append(transition)\n",
        "\n",
        "    # Trains main network every step during episode\n",
        "    def train(self, terminal_state, step):\n",
        "\n",
        "        # Start training only if certain number of samples is already saved\n",
        "        if len(self.replay_memory) < MIN_REPLAY_MEMORY_SIZE:\n",
        "            return\n",
        "\n",
        "        # Get a minibatch of random samples from memory replay table\n",
        "        minibatch = random.sample(self.replay_memory, MINIBATCH_SIZE)\n",
        "\n",
        "        # Get current states from minibatch, then query NN model for Q values\n",
        "        current_states = np.array([transition[0] for transition in minibatch])/255\n",
        "        current_qs_list = self.model.predict(current_states)\n",
        "\n",
        "        # Get future states from minibatch, then query NN model for Q values\n",
        "        # When using target network, query it, otherwise main network should be queried\n",
        "        new_current_states = np.array([transition[3] for transition in minibatch])/255\n",
        "        future_qs_list = self.target_model.predict(new_current_states)\n",
        "\n",
        "        X = []\n",
        "        y = []\n",
        "\n",
        "        # Now we need to enumerate our batches\n",
        "        for index, (current_state, action, reward, new_current_state, done) in enumerate(minibatch):\n",
        "\n",
        "            # If not a terminal state, get new q from future states, otherwise set it to 0\n",
        "            # almost like with Q Learning, but we use just part of equation here\n",
        "            if not done:\n",
        "                max_future_q = np.max(future_qs_list[index])\n",
        "                new_q = reward + DISCOUNT * max_future_q\n",
        "            else:\n",
        "                new_q = reward\n",
        "\n",
        "            # Update Q value for given state\n",
        "            current_qs = current_qs_list[index]\n",
        "            current_qs[action] = new_q\n",
        "\n",
        "            # And append to our training data\n",
        "            X.append(current_state)\n",
        "            y.append(current_qs)\n",
        "\n",
        "        # Fit on all samples as one batch, log only on terminal state\n",
        "        self.model.fit(np.array(X)/255, np.array(y), batch_size=MINIBATCH_SIZE, verbose=0, shuffle=False, callbacks=[self.tensorboard] if terminal_state else None)\n",
        "\n",
        "        # Update target network counter every episode\n",
        "        if terminal_state:\n",
        "            self.target_update_counter += 1\n",
        "\n",
        "        # If counter reaches set value, update target network with weights of main network\n",
        "        if self.target_update_counter > UPDATE_TARGET_EVERY:\n",
        "            self.target_model.set_weights(self.model.get_weights())\n",
        "            self.target_update_counter = 0\n",
        "\n",
        "    # Queries main network for Q values given current observation space (environment state)\n",
        "    def get_qs(self, state):\n",
        "        return self.model.predict(np.array(state).reshape(-1, *state.shape)/255)[0]\n",
        "\n",
        "\n",
        "agent = DQNAgent()\n",
        "\n",
        "# Iterate over episodes\n",
        "for episode in tqdm(range(1, EPISODES + 1), ascii=True, unit='episodes'):\n",
        "\n",
        "    # Update tensorboard step every episode\n",
        "    agent.tensorboard.step = episode\n",
        "\n",
        "    # Restarting episode - reset episode reward and step number\n",
        "    episode_reward = 0\n",
        "    step = 1\n",
        "\n",
        "    # Reset environment and get initial state\n",
        "    current_state = env.reset(1)\n",
        "\n",
        "    # Reset flag and start iterating until episode ends\n",
        "    done = False\n",
        "    while not done:\n",
        "\n",
        "        # This part stays mostly the same, the change is to query a model for Q values\n",
        "        if np.random.random() > epsilon:\n",
        "            # Get action from Q table\n",
        "            action = np.argmax(agent.get_qs(current_state))\n",
        "        else:\n",
        "            # Get random action\n",
        "            action = np.random.randint(0, env.ACTION_SPACE_SIZE)\n",
        "\n",
        "        new_state, reward, done = env.step(action)\n",
        "\n",
        "        # Transform new continous state to new discrete state and count reward\n",
        "        episode_reward += reward\n",
        "\n",
        "        if SHOW_PREVIEW and not episode % AGGREGATE_STATS_EVERY:\n",
        "            env.render()\n",
        "\n",
        "        # Every step we update replay memory and train main network\n",
        "        agent.update_replay_memory((current_state, action, reward, new_state, done))\n",
        "        agent.train(done, step)\n",
        "\n",
        "        current_state = new_state\n",
        "        step += 1\n",
        "\n",
        "    # Append episode reward to a list and log stats (every given number of episodes)\n",
        "    ep_rewards.append(episode_reward)\n",
        "    print(episode_reward)\n",
        "    if not episode % AGGREGATE_STATS_EVERY or episode == 1:\n",
        "        average_reward = sum(ep_rewards[-AGGREGATE_STATS_EVERY:])/len(ep_rewards[-AGGREGATE_STATS_EVERY:])\n",
        "        min_reward = min(ep_rewards[-AGGREGATE_STATS_EVERY:])\n",
        "        max_reward = max(ep_rewards[-AGGREGATE_STATS_EVERY:])\n",
        "        agent.tensorboard.update_stats(reward_avg=average_reward, reward_min=min_reward, reward_max=max_reward, epsilon=epsilon)\n",
        "\n",
        "        # Save model, but only when min reward is greater or equal a set value\n",
        "        if min_reward >= MIN_REWARD:\n",
        "            agent.model.save(f'models/{MODEL_NAME}__{max_reward:_>7.2f}max_{average_reward:_>7.2f}avg_{min_reward:_>7.2f}min__{int(time.time())}.model')\n",
        "            #print(f'models/{MODEL_NAME}__{max_reward:_>7.2f}max_{average_reward:_>7.2f}avg_{min_reward:_>7.2f}min__{int(time.time())}.model')\n",
        "    # Decay epsilon\n",
        "    if epsilon > MIN_EPSILON:\n",
        "        epsilon *= EPSILON_DECAY\n",
        "        epsilon = max(MIN_EPSILON, epsilon)"
      ],
      "execution_count": 10,
      "outputs": [
        {
          "output_type": "stream",
          "text": [
            "\n",
            "  0%|          | 0/100 [00:00<?, ?episodes/s]\u001b[A"
          ],
          "name": "stderr"
        },
        {
          "output_type": "stream",
          "text": [
            "-200\n",
            "INFO:tensorflow:Assets written to: models/2x256__-200.00max_-200.00avg_-200.00min__1605982248.model/assets\n"
          ],
          "name": "stdout"
        },
        {
          "output_type": "stream",
          "text": [
            "\n",
            "  1%|1         | 1/100 [00:00<01:28,  1.12episodes/s]\u001b[A"
          ],
          "name": "stderr"
        },
        {
          "output_type": "stream",
          "text": [
            "-306\n",
            "-437\n",
            "-107\n",
            "16\n",
            "-330\n"
          ],
          "name": "stdout"
        },
        {
          "output_type": "stream",
          "text": [
            "\n",
            "  7%|7         | 7/100 [00:01<00:59,  1.57episodes/s]\u001b[A\n",
            " 16%|#6        | 16/100 [00:01<00:37,  2.22episodes/s]\u001b[A"
          ],
          "name": "stderr"
        },
        {
          "output_type": "stream",
          "text": [
            "-450\n",
            "-15\n",
            "-403\n",
            "-22\n",
            "-300\n",
            "-301\n",
            "11\n",
            "23\n",
            "-306\n",
            "9\n"
          ],
          "name": "stdout"
        },
        {
          "output_type": "stream",
          "text": [
            "\n",
            " 16%|#6        | 16/100 [00:18<00:37,  2.22episodes/s]\u001b[A\n",
            " 17%|#7        | 17/100 [00:31<13:09,  9.51s/episodes]\u001b[A"
          ],
          "name": "stderr"
        },
        {
          "output_type": "stream",
          "text": [
            "-200\n"
          ],
          "name": "stdout"
        },
        {
          "output_type": "stream",
          "text": [
            "\n",
            " 18%|#8        | 18/100 [00:32<09:27,  6.91s/episodes]\u001b[A"
          ],
          "name": "stderr"
        },
        {
          "output_type": "stream",
          "text": [
            "-302\n"
          ],
          "name": "stdout"
        },
        {
          "output_type": "stream",
          "text": [
            "\n",
            " 19%|#9        | 19/100 [01:18<25:07, 18.62s/episodes]\u001b[A"
          ],
          "name": "stderr"
        },
        {
          "output_type": "stream",
          "text": [
            "-453\n"
          ],
          "name": "stdout"
        },
        {
          "output_type": "stream",
          "text": [
            "\n",
            " 20%|##        | 20/100 [01:29<21:38, 16.23s/episodes]\u001b[A"
          ],
          "name": "stderr"
        },
        {
          "output_type": "stream",
          "text": [
            "-12\n"
          ],
          "name": "stdout"
        },
        {
          "output_type": "stream",
          "text": [
            "\n",
            " 21%|##1       | 21/100 [01:29<15:04, 11.45s/episodes]\u001b[A"
          ],
          "name": "stderr"
        },
        {
          "output_type": "stream",
          "text": [
            "25\n"
          ],
          "name": "stdout"
        },
        {
          "output_type": "stream",
          "text": [
            "\n",
            " 22%|##2       | 22/100 [01:31<11:05,  8.53s/episodes]\u001b[A"
          ],
          "name": "stderr"
        },
        {
          "output_type": "stream",
          "text": [
            "20\n"
          ],
          "name": "stdout"
        },
        {
          "output_type": "stream",
          "text": [
            "\n",
            " 23%|##3       | 23/100 [01:31<07:46,  6.06s/episodes]\u001b[A"
          ],
          "name": "stderr"
        },
        {
          "output_type": "stream",
          "text": [
            "25\n"
          ],
          "name": "stdout"
        },
        {
          "output_type": "stream",
          "text": [
            "\n",
            " 24%|##4       | 24/100 [01:31<05:29,  4.33s/episodes]\u001b[A"
          ],
          "name": "stderr"
        },
        {
          "output_type": "stream",
          "text": [
            "-300\n"
          ],
          "name": "stdout"
        },
        {
          "output_type": "stream",
          "text": [
            "\n",
            " 25%|##5       | 25/100 [02:22<22:38, 18.12s/episodes]\u001b[A"
          ],
          "name": "stderr"
        },
        {
          "output_type": "stream",
          "text": [
            "-478\n"
          ],
          "name": "stdout"
        },
        {
          "output_type": "stream",
          "text": [
            "\n",
            " 26%|##6       | 26/100 [02:25<16:41, 13.53s/episodes]\u001b[A"
          ],
          "name": "stderr"
        },
        {
          "output_type": "stream",
          "text": [
            "-309\n"
          ],
          "name": "stdout"
        },
        {
          "output_type": "stream",
          "text": [
            "\n",
            " 27%|##7       | 27/100 [02:27<12:15, 10.07s/episodes]\u001b[A"
          ],
          "name": "stderr"
        },
        {
          "output_type": "stream",
          "text": [
            "-306\n"
          ],
          "name": "stdout"
        },
        {
          "output_type": "stream",
          "text": [
            "\n",
            " 28%|##8       | 28/100 [03:13<25:08, 20.95s/episodes]\u001b[A"
          ],
          "name": "stderr"
        },
        {
          "output_type": "stream",
          "text": [
            "-138\n"
          ],
          "name": "stdout"
        },
        {
          "output_type": "stream",
          "text": [
            "\n",
            " 29%|##9       | 29/100 [03:43<28:04, 23.73s/episodes]\u001b[A"
          ],
          "name": "stderr"
        },
        {
          "output_type": "stream",
          "text": [
            "-77\n"
          ],
          "name": "stdout"
        },
        {
          "output_type": "stream",
          "text": [
            "\n",
            " 30%|###       | 30/100 [03:43<19:28, 16.70s/episodes]\u001b[A"
          ],
          "name": "stderr"
        },
        {
          "output_type": "stream",
          "text": [
            "-300\n"
          ],
          "name": "stdout"
        },
        {
          "output_type": "stream",
          "text": [
            "\n",
            " 31%|###1      | 31/100 [04:43<34:03, 29.62s/episodes]\u001b[A"
          ],
          "name": "stderr"
        },
        {
          "output_type": "stream",
          "text": [
            "-200\n"
          ],
          "name": "stdout"
        },
        {
          "output_type": "stream",
          "text": [
            "\n",
            " 32%|###2      | 32/100 [04:48<25:01, 22.08s/episodes]\u001b[A"
          ],
          "name": "stderr"
        },
        {
          "output_type": "stream",
          "text": [
            "10\n"
          ],
          "name": "stdout"
        },
        {
          "output_type": "stream",
          "text": [
            "\n",
            " 33%|###3      | 33/100 [04:48<17:21, 15.54s/episodes]\u001b[A"
          ],
          "name": "stderr"
        },
        {
          "output_type": "stream",
          "text": [
            "25\n"
          ],
          "name": "stdout"
        },
        {
          "output_type": "stream",
          "text": [
            "\n",
            " 34%|###4      | 34/100 [04:57<14:53, 13.53s/episodes]\u001b[A"
          ],
          "name": "stderr"
        },
        {
          "output_type": "stream",
          "text": [
            "-6\n"
          ],
          "name": "stdout"
        },
        {
          "output_type": "stream",
          "text": [
            "\n",
            " 35%|###5      | 35/100 [04:58<10:38,  9.82s/episodes]\u001b[A"
          ],
          "name": "stderr"
        },
        {
          "output_type": "stream",
          "text": [
            "-303\n"
          ],
          "name": "stdout"
        },
        {
          "output_type": "stream",
          "text": [
            "\n",
            " 36%|###6      | 36/100 [05:02<08:30,  7.98s/episodes]\u001b[A"
          ],
          "name": "stderr"
        },
        {
          "output_type": "stream",
          "text": [
            "13\n"
          ],
          "name": "stdout"
        },
        {
          "output_type": "stream",
          "text": [
            "\n",
            " 37%|###7      | 37/100 [05:02<05:57,  5.67s/episodes]\u001b[A"
          ],
          "name": "stderr"
        },
        {
          "output_type": "stream",
          "text": [
            "25\n"
          ],
          "name": "stdout"
        },
        {
          "output_type": "stream",
          "text": [
            "\n",
            " 38%|###8      | 38/100 [05:15<08:17,  8.02s/episodes]\u001b[A"
          ],
          "name": "stderr"
        },
        {
          "output_type": "stream",
          "text": [
            "-347\n"
          ],
          "name": "stdout"
        },
        {
          "output_type": "stream",
          "text": [
            "\n",
            " 39%|###9      | 39/100 [05:25<08:41,  8.55s/episodes]\u001b[A"
          ],
          "name": "stderr"
        },
        {
          "output_type": "stream",
          "text": [
            "-9\n"
          ],
          "name": "stdout"
        },
        {
          "output_type": "stream",
          "text": [
            "\n",
            " 40%|####      | 40/100 [05:26<06:04,  6.07s/episodes]\u001b[A"
          ],
          "name": "stderr"
        },
        {
          "output_type": "stream",
          "text": [
            "25\n"
          ],
          "name": "stdout"
        },
        {
          "output_type": "stream",
          "text": [
            "\n",
            " 41%|####1     | 41/100 [05:29<05:05,  5.18s/episodes]\u001b[A"
          ],
          "name": "stderr"
        },
        {
          "output_type": "stream",
          "text": [
            "15\n"
          ],
          "name": "stdout"
        },
        {
          "output_type": "stream",
          "text": [
            "\n",
            " 42%|####2     | 42/100 [06:23<19:21, 20.02s/episodes]\u001b[A"
          ],
          "name": "stderr"
        },
        {
          "output_type": "stream",
          "text": [
            "-496\n"
          ],
          "name": "stdout"
        },
        {
          "output_type": "stream",
          "text": [
            "\n",
            " 43%|####3     | 43/100 [07:19<29:16, 30.81s/episodes]\u001b[A"
          ],
          "name": "stderr"
        },
        {
          "output_type": "stream",
          "text": [
            "-200\n"
          ],
          "name": "stdout"
        },
        {
          "output_type": "stream",
          "text": [
            "\n",
            " 44%|####4     | 44/100 [08:21<37:22, 40.04s/episodes]\u001b[A"
          ],
          "name": "stderr"
        },
        {
          "output_type": "stream",
          "text": [
            "-200\n"
          ],
          "name": "stdout"
        },
        {
          "output_type": "stream",
          "text": [
            "\n",
            " 45%|####5     | 45/100 [08:24<26:28, 28.87s/episodes]\u001b[A"
          ],
          "name": "stderr"
        },
        {
          "output_type": "stream",
          "text": [
            "16\n"
          ],
          "name": "stdout"
        },
        {
          "output_type": "stream",
          "text": [
            "\n",
            " 46%|####6     | 46/100 [09:02<28:40, 31.87s/episodes]\u001b[A"
          ],
          "name": "stderr"
        },
        {
          "output_type": "stream",
          "text": [
            "-113\n"
          ],
          "name": "stdout"
        },
        {
          "output_type": "stream",
          "text": [
            "\n",
            " 47%|####6     | 47/100 [09:28<26:27, 29.96s/episodes]\u001b[A"
          ],
          "name": "stderr"
        },
        {
          "output_type": "stream",
          "text": [
            "-391\n"
          ],
          "name": "stdout"
        },
        {
          "output_type": "stream",
          "text": [
            "\n",
            " 48%|####8     | 48/100 [09:28<18:15, 21.06s/episodes]\u001b[A"
          ],
          "name": "stderr"
        },
        {
          "output_type": "stream",
          "text": [
            "25\n"
          ],
          "name": "stdout"
        },
        {
          "output_type": "stream",
          "text": [
            "\n",
            " 49%|####9     | 49/100 [09:35<14:18, 16.84s/episodes]\u001b[A"
          ],
          "name": "stderr"
        },
        {
          "output_type": "stream",
          "text": [
            "-324\n"
          ],
          "name": "stdout"
        },
        {
          "output_type": "stream",
          "text": [
            "\n",
            " 50%|#####     | 50/100 [10:37<25:16, 30.33s/episodes]\u001b[A"
          ],
          "name": "stderr"
        },
        {
          "output_type": "stream",
          "text": [
            "-200\n"
          ],
          "name": "stdout"
        },
        {
          "output_type": "stream",
          "text": [
            "\n",
            " 51%|#####1    | 51/100 [11:02<23:22, 28.62s/episodes]\u001b[A"
          ],
          "name": "stderr"
        },
        {
          "output_type": "stream",
          "text": [
            "-62\n"
          ],
          "name": "stdout"
        },
        {
          "output_type": "stream",
          "text": [
            "\n",
            " 52%|#####2    | 52/100 [11:17<19:48, 24.75s/episodes]\u001b[A"
          ],
          "name": "stderr"
        },
        {
          "output_type": "stream",
          "text": [
            "-355\n"
          ],
          "name": "stdout"
        },
        {
          "output_type": "stream",
          "text": [
            "\n",
            " 53%|#####3    | 53/100 [11:53<21:58, 28.05s/episodes]\u001b[A"
          ],
          "name": "stderr"
        },
        {
          "output_type": "stream",
          "text": [
            "-426\n"
          ],
          "name": "stdout"
        },
        {
          "output_type": "stream",
          "text": [
            "\n",
            " 54%|#####4    | 54/100 [12:56<29:30, 38.49s/episodes]\u001b[A"
          ],
          "name": "stderr"
        },
        {
          "output_type": "stream",
          "text": [
            "-200\n"
          ],
          "name": "stdout"
        },
        {
          "output_type": "stream",
          "text": [
            "\n",
            " 55%|#####5    | 55/100 [13:19<25:23, 33.86s/episodes]\u001b[A"
          ],
          "name": "stderr"
        },
        {
          "output_type": "stream",
          "text": [
            "-382\n"
          ],
          "name": "stdout"
        },
        {
          "output_type": "stream",
          "text": [
            "\n",
            " 56%|#####6    | 56/100 [14:15<29:42, 40.52s/episodes]\u001b[A"
          ],
          "name": "stderr"
        },
        {
          "output_type": "stream",
          "text": [
            "-200\n"
          ],
          "name": "stdout"
        },
        {
          "output_type": "stream",
          "text": [
            "\n",
            " 57%|#####6    | 57/100 [14:43<26:22, 36.81s/episodes]\u001b[A"
          ],
          "name": "stderr"
        },
        {
          "output_type": "stream",
          "text": [
            "-75\n"
          ],
          "name": "stdout"
        },
        {
          "output_type": "stream",
          "text": [
            "\n",
            " 58%|#####8    | 58/100 [14:44<18:16, 26.10s/episodes]\u001b[A"
          ],
          "name": "stderr"
        },
        {
          "output_type": "stream",
          "text": [
            "-303\n"
          ],
          "name": "stdout"
        },
        {
          "output_type": "stream",
          "text": [
            "\n",
            " 59%|#####8    | 59/100 [14:53<14:19, 20.96s/episodes]\u001b[A"
          ],
          "name": "stderr"
        },
        {
          "output_type": "stream",
          "text": [
            "-6\n"
          ],
          "name": "stdout"
        },
        {
          "output_type": "stream",
          "text": [
            "\n",
            " 60%|######    | 60/100 [14:55<10:00, 15.02s/episodes]\u001b[A"
          ],
          "name": "stderr"
        },
        {
          "output_type": "stream",
          "text": [
            "22\n"
          ],
          "name": "stdout"
        },
        {
          "output_type": "stream",
          "text": [
            "\n",
            " 61%|######1   | 61/100 [14:58<07:25, 11.42s/episodes]\u001b[A"
          ],
          "name": "stderr"
        },
        {
          "output_type": "stream",
          "text": [
            "15\n"
          ],
          "name": "stdout"
        },
        {
          "output_type": "stream",
          "text": [
            "\n",
            " 62%|######2   | 62/100 [15:32<11:40, 18.44s/episodes]\u001b[A"
          ],
          "name": "stderr"
        },
        {
          "output_type": "stream",
          "text": [
            "-100\n"
          ],
          "name": "stdout"
        },
        {
          "output_type": "stream",
          "text": [
            "\n",
            " 63%|######3   | 63/100 [15:33<08:01, 13.00s/episodes]\u001b[A"
          ],
          "name": "stderr"
        },
        {
          "output_type": "stream",
          "text": [
            "-300\n"
          ],
          "name": "stdout"
        },
        {
          "output_type": "stream",
          "text": [
            "\n",
            " 64%|######4   | 64/100 [15:33<05:30,  9.19s/episodes]\u001b[A"
          ],
          "name": "stderr"
        },
        {
          "output_type": "stream",
          "text": [
            "-300\n"
          ],
          "name": "stdout"
        },
        {
          "output_type": "stream",
          "text": [
            "\n",
            " 65%|######5   | 65/100 [15:38<04:37,  7.92s/episodes]\u001b[A"
          ],
          "name": "stderr"
        },
        {
          "output_type": "stream",
          "text": [
            "-317\n"
          ],
          "name": "stdout"
        },
        {
          "output_type": "stream",
          "text": [
            "\n",
            " 66%|######6   | 66/100 [16:05<07:41, 13.57s/episodes]\u001b[A"
          ],
          "name": "stderr"
        },
        {
          "output_type": "stream",
          "text": [
            "-396\n"
          ],
          "name": "stdout"
        },
        {
          "output_type": "stream",
          "text": [
            "\n",
            " 67%|######7   | 67/100 [16:06<05:27,  9.92s/episodes]\u001b[A"
          ],
          "name": "stderr"
        },
        {
          "output_type": "stream",
          "text": [
            "21\n"
          ],
          "name": "stdout"
        },
        {
          "output_type": "stream",
          "text": [
            "\n",
            " 68%|######8   | 68/100 [17:02<12:35, 23.60s/episodes]\u001b[A"
          ],
          "name": "stderr"
        },
        {
          "output_type": "stream",
          "text": [
            "-200\n"
          ],
          "name": "stdout"
        },
        {
          "output_type": "stream",
          "text": [
            "\n",
            " 69%|######9   | 69/100 [17:02<08:34, 16.61s/episodes]\u001b[A"
          ],
          "name": "stderr"
        },
        {
          "output_type": "stream",
          "text": [
            "-300\n"
          ],
          "name": "stdout"
        },
        {
          "output_type": "stream",
          "text": [
            "\n",
            " 70%|#######   | 70/100 [18:06<15:22, 30.75s/episodes]\u001b[A"
          ],
          "name": "stderr"
        },
        {
          "output_type": "stream",
          "text": [
            "-200\n"
          ],
          "name": "stdout"
        },
        {
          "output_type": "stream",
          "text": [
            "\n",
            " 71%|#######1  | 71/100 [18:25<13:09, 27.24s/episodes]\u001b[A"
          ],
          "name": "stderr"
        },
        {
          "output_type": "stream",
          "text": [
            "-43\n"
          ],
          "name": "stdout"
        },
        {
          "output_type": "stream",
          "text": [
            "\n",
            " 72%|#######2  | 72/100 [18:25<08:56, 19.15s/episodes]\u001b[A"
          ],
          "name": "stderr"
        },
        {
          "output_type": "stream",
          "text": [
            "-300\n"
          ],
          "name": "stdout"
        },
        {
          "output_type": "stream",
          "text": [
            "\n",
            " 73%|#######3  | 73/100 [19:14<12:42, 28.23s/episodes]\u001b[A"
          ],
          "name": "stderr"
        },
        {
          "output_type": "stream",
          "text": [
            "-471\n"
          ],
          "name": "stdout"
        },
        {
          "output_type": "stream",
          "text": [
            "\n",
            " 74%|#######4  | 74/100 [19:28<10:19, 23.84s/episodes]\u001b[A"
          ],
          "name": "stderr"
        },
        {
          "output_type": "stream",
          "text": [
            "-23\n"
          ],
          "name": "stdout"
        },
        {
          "output_type": "stream",
          "text": [
            "\n",
            " 75%|#######5  | 75/100 [19:28<06:59, 16.77s/episodes]\u001b[A"
          ],
          "name": "stderr"
        },
        {
          "output_type": "stream",
          "text": [
            "25\n"
          ],
          "name": "stdout"
        },
        {
          "output_type": "stream",
          "text": [
            "\n",
            " 76%|#######6  | 76/100 [19:36<05:35, 13.99s/episodes]\u001b[A"
          ],
          "name": "stderr"
        },
        {
          "output_type": "stream",
          "text": [
            "-326\n"
          ],
          "name": "stdout"
        },
        {
          "output_type": "stream",
          "text": [
            "\n",
            " 77%|#######7  | 77/100 [19:38<03:58, 10.39s/episodes]\u001b[A"
          ],
          "name": "stderr"
        },
        {
          "output_type": "stream",
          "text": [
            "-306\n"
          ],
          "name": "stdout"
        },
        {
          "output_type": "stream",
          "text": [
            "\n",
            " 78%|#######8  | 78/100 [20:33<08:43, 23.80s/episodes]\u001b[A"
          ],
          "name": "stderr"
        },
        {
          "output_type": "stream",
          "text": [
            "-200\n"
          ],
          "name": "stdout"
        },
        {
          "output_type": "stream",
          "text": [
            "\n",
            " 79%|#######9  | 79/100 [20:42<06:44, 19.25s/episodes]\u001b[A"
          ],
          "name": "stderr"
        },
        {
          "output_type": "stream",
          "text": [
            "-5\n"
          ],
          "name": "stdout"
        },
        {
          "output_type": "stream",
          "text": [
            "\n",
            " 80%|########  | 80/100 [20:42<04:34, 13.72s/episodes]\u001b[A"
          ],
          "name": "stderr"
        },
        {
          "output_type": "stream",
          "text": [
            "23\n"
          ],
          "name": "stdout"
        },
        {
          "output_type": "stream",
          "text": [
            "\n",
            " 81%|########1 | 81/100 [20:51<03:51, 12.18s/episodes]\u001b[A"
          ],
          "name": "stderr"
        },
        {
          "output_type": "stream",
          "text": [
            "-330\n"
          ],
          "name": "stdout"
        },
        {
          "output_type": "stream",
          "text": [
            "\n",
            " 82%|########2 | 82/100 [21:44<07:21, 24.52s/episodes]\u001b[A"
          ],
          "name": "stderr"
        },
        {
          "output_type": "stream",
          "text": [
            "-490\n"
          ],
          "name": "stdout"
        },
        {
          "output_type": "stream",
          "text": [
            "\n",
            " 83%|########2 | 83/100 [21:59<06:09, 21.72s/episodes]\u001b[A"
          ],
          "name": "stderr"
        },
        {
          "output_type": "stream",
          "text": [
            "-354\n"
          ],
          "name": "stdout"
        },
        {
          "output_type": "stream",
          "text": [
            "\n",
            " 84%|########4 | 84/100 [22:04<04:24, 16.55s/episodes]\u001b[A"
          ],
          "name": "stderr"
        },
        {
          "output_type": "stream",
          "text": [
            "10\n"
          ],
          "name": "stdout"
        },
        {
          "output_type": "stream",
          "text": [
            "\n",
            " 85%|########5 | 85/100 [22:11<03:25, 13.69s/episodes]\u001b[A"
          ],
          "name": "stderr"
        },
        {
          "output_type": "stream",
          "text": [
            "1\n"
          ],
          "name": "stdout"
        },
        {
          "output_type": "stream",
          "text": [
            "\n",
            " 86%|########6 | 86/100 [23:05<06:02, 25.92s/episodes]\u001b[A"
          ],
          "name": "stderr"
        },
        {
          "output_type": "stream",
          "text": [
            "-494\n"
          ],
          "name": "stdout"
        },
        {
          "output_type": "stream",
          "text": [
            "\n",
            " 87%|########7 | 87/100 [23:20<04:52, 22.52s/episodes]\u001b[A"
          ],
          "name": "stderr"
        },
        {
          "output_type": "stream",
          "text": [
            "-26\n"
          ],
          "name": "stdout"
        },
        {
          "output_type": "stream",
          "text": [
            "\n",
            " 88%|########8 | 88/100 [23:40<04:21, 21.82s/episodes]\u001b[A"
          ],
          "name": "stderr"
        },
        {
          "output_type": "stream",
          "text": [
            "-370\n"
          ],
          "name": "stdout"
        },
        {
          "output_type": "stream",
          "text": [
            "\n",
            " 89%|########9 | 89/100 [23:41<02:50, 15.53s/episodes]\u001b[A"
          ],
          "name": "stderr"
        },
        {
          "output_type": "stream",
          "text": [
            "23\n"
          ],
          "name": "stdout"
        },
        {
          "output_type": "stream",
          "text": [
            "\n",
            " 90%|######### | 90/100 [24:47<05:06, 30.62s/episodes]\u001b[A"
          ],
          "name": "stderr"
        },
        {
          "output_type": "stream",
          "text": [
            "-200\n"
          ],
          "name": "stdout"
        },
        {
          "output_type": "stream",
          "text": [
            "\n",
            " 91%|#########1| 91/100 [24:47<03:14, 21.61s/episodes]\u001b[A"
          ],
          "name": "stderr"
        },
        {
          "output_type": "stream",
          "text": [
            "24\n"
          ],
          "name": "stdout"
        },
        {
          "output_type": "stream",
          "text": [
            "\n",
            " 92%|#########2| 92/100 [24:48<02:01, 15.22s/episodes]\u001b[A"
          ],
          "name": "stderr"
        },
        {
          "output_type": "stream",
          "text": [
            "-300\n"
          ],
          "name": "stdout"
        },
        {
          "output_type": "stream",
          "text": [
            "\n",
            " 93%|#########3| 93/100 [24:59<01:37, 14.00s/episodes]\u001b[A"
          ],
          "name": "stderr"
        },
        {
          "output_type": "stream",
          "text": [
            "-339\n"
          ],
          "name": "stdout"
        },
        {
          "output_type": "stream",
          "text": [
            "\n",
            " 94%|#########3| 94/100 [25:12<01:21, 13.64s/episodes]\u001b[A"
          ],
          "name": "stderr"
        },
        {
          "output_type": "stream",
          "text": [
            "-20\n"
          ],
          "name": "stdout"
        },
        {
          "output_type": "stream",
          "text": [
            "\n",
            " 95%|#########5| 95/100 [25:54<01:51, 22.37s/episodes]\u001b[A"
          ],
          "name": "stderr"
        },
        {
          "output_type": "stream",
          "text": [
            "-123\n"
          ],
          "name": "stdout"
        },
        {
          "output_type": "stream",
          "text": [
            "\n",
            " 96%|#########6| 96/100 [26:07<01:17, 19.35s/episodes]\u001b[A"
          ],
          "name": "stderr"
        },
        {
          "output_type": "stream",
          "text": [
            "-18\n"
          ],
          "name": "stdout"
        },
        {
          "output_type": "stream",
          "text": [
            "\n",
            " 97%|#########7| 97/100 [26:39<01:09, 23.18s/episodes]\u001b[A"
          ],
          "name": "stderr"
        },
        {
          "output_type": "stream",
          "text": [
            "-90\n"
          ],
          "name": "stdout"
        },
        {
          "output_type": "stream",
          "text": [
            "\n",
            " 98%|#########8| 98/100 [27:34<01:05, 32.85s/episodes]\u001b[A"
          ],
          "name": "stderr"
        },
        {
          "output_type": "stream",
          "text": [
            "-200\n"
          ],
          "name": "stdout"
        },
        {
          "output_type": "stream",
          "text": [
            "\n",
            " 99%|#########9| 99/100 [27:35<00:23, 23.34s/episodes]\u001b[A"
          ],
          "name": "stderr"
        },
        {
          "output_type": "stream",
          "text": [
            "-303\n"
          ],
          "name": "stdout"
        },
        {
          "output_type": "stream",
          "text": [
            "\n",
            "100%|##########| 100/100 [27:56<00:00, 16.77s/episodes]"
          ],
          "name": "stderr"
        },
        {
          "output_type": "stream",
          "text": [
            "-49\n"
          ],
          "name": "stdout"
        },
        {
          "output_type": "stream",
          "text": [
            "\n"
          ],
          "name": "stderr"
        }
      ]
    }
  ]
}